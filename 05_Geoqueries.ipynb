{
 "cells": [
  {
   "cell_type": "markdown",
   "id": "30404238",
   "metadata": {},
   "source": [
    "# Importamos librerías y definimos funciones:"
   ]
  },
  {
   "cell_type": "code",
   "execution_count": 1,
   "id": "076c9b34",
   "metadata": {},
   "outputs": [],
   "source": [
    "import json\n",
    "\n",
    "from pymongo import MongoClient\n",
    "from pymongo import GEOSPHERE\n",
    "\n",
    "from geopy.geocoders import Nominatim\n"
   ]
  },
  {
   "cell_type": "code",
   "execution_count": 2,
   "id": "fe675a43",
   "metadata": {},
   "outputs": [],
   "source": [
    "def type_point(lista):\n",
    "    return {\"type\":\"Point\", \"coordinates\": lista}\n",
    "\n",
    "def consigue_lat_long(direccion):\n",
    "    \"\"\"\n",
    "    Esta función saca las coordenadas de la dirección que le pases\n",
    "    y la devuelve como lista [lat,long]\n",
    "    \"\"\"\n",
    "    geolocator = Nominatim(user_agent=\"aaaaaaaaaa@gmail.com\")\n",
    "    location = geolocator.geocode(direccion)\n",
    "    return [location.latitude, location.longitude]\n",
    "\n",
    "def consigue_type_point_lat_long(direccion):\n",
    "    \"\"\"\n",
    "    Esta función saca las coordenadas de la dirección que le pases\n",
    "    y la devuelve en type:point \n",
    "    \"\"\"\n",
    "    return type_point( consigue_lat_long(direccion) )\n",
    "\n",
    "def permutar_lat_x_long(lugar):\n",
    "    lugar_T = type_point([lugar[\"coordinates\"][1] , lugar[\"coordinates\"][0] ])\n",
    "    return lugar_T\n",
    "\n",
    "def buscar_barrio(lugar) :\n",
    "    query = {\"geometry\": {\"$geoIntersects\": {\"$geometry\": lugar}}}\n",
    "    c    = db.get_collection(\"Barrios\")\n",
    "    proy = {\"_id\":0, \"properties.DISPLAY_NAME\": 1, \"properties.MOVEMENT_ID\": 1}\n",
    "    try:\n",
    "        return c.find_one(query,proy)[\"properties\"]['MOVEMENT_ID']\n",
    "    except:\n",
    "        return False\n",
    "\n",
    "def buscar_codigo_postal(lugar) :\n",
    "    query = {\"geometry\": {\"$geoIntersects\": {\"$geometry\": lugar}}}\n",
    "    c    = db.get_collection(\"Codigos_Postales\")\n",
    "    proy = {\"_id\":0, \"properties.GEOCODIGO\": 1   , \"properties.MOVEMENT_ID\": 1}\n",
    "    try:\n",
    "        return c.find_one(query,proy)[\"properties\"]['MOVEMENT_ID']\n",
    "    except:\n",
    "        return False\n"
   ]
  },
  {
   "cell_type": "markdown",
   "id": "b7909dd4",
   "metadata": {},
   "source": [
    "# Cargamos los geojson en este Notebook"
   ]
  },
  {
   "cell_type": "code",
   "execution_count": 3,
   "id": "34e383f6",
   "metadata": {},
   "outputs": [],
   "source": [
    "geo_barrios = json.load( open (\"data/madrid_barrios.geojson\")          )\n",
    "geo_codpost = json.load( open (\"data/madrid_codigos_postales.geojson\") )"
   ]
  },
  {
   "cell_type": "code",
   "execution_count": 4,
   "id": "776f6b81",
   "metadata": {},
   "outputs": [],
   "source": [
    "# Exportamos los geojson a jsons capaces de importar en MongoDB\n",
    "json.dump(geo_barrios[\"features\"], open (\"data/madrid_barrios.json\", \"w\") )\n",
    "json.dump(geo_codpost[\"features\"], open (\"data/madrid_codigos_postales.json\", \"w\") )"
   ]
  },
  {
   "cell_type": "markdown",
   "id": "dc37b6ad",
   "metadata": {},
   "source": [
    "# Conectamos con la base de datos en MongoDB"
   ]
  },
  {
   "cell_type": "code",
   "execution_count": 5,
   "id": "6700fba3",
   "metadata": {},
   "outputs": [],
   "source": [
    "# Conectamos con la base de datos:\n",
    "\n",
    "client = MongoClient(\"localhost:27017\")\n",
    "db = client.get_database(\"Coropleticos_Madrid\")"
   ]
  },
  {
   "cell_type": "code",
   "execution_count": 6,
   "id": "f409f0b0",
   "metadata": {},
   "outputs": [],
   "source": [
    "# Creamos la indexación geoespacial de MongoDB para ejecutar eficientemente consultas espaciales\n",
    "# Esto sólo debe hacerse una vez, y luego la colección de Mongo está correctamente indexada para siempre.\n",
    "\n",
    "#db.Barrios.create_index([(\"geometry\", GEOSPHERE)])\n",
    "#db.Codigos_postales.create_index([(\"geometry\", GEOSPHERE)])\n"
   ]
  },
  {
   "cell_type": "code",
   "execution_count": 7,
   "id": "b2ba03ba",
   "metadata": {},
   "outputs": [
    {
     "data": {
      "text/plain": [
       "dict_keys(['_id', 'type', 'properties', 'geometry'])"
      ]
     },
     "execution_count": 7,
     "metadata": {},
     "output_type": "execute_result"
    }
   ],
   "source": [
    "# Cargamos las colecciones desde MongoDB a este Notebook\n",
    "codigos_postales_mongo    = db.get_collection(\"Codigos_Postales\")\n",
    "# Compruebo que la conexion funciona (con codigos postales)\n",
    "codigos_postales_mongo.find_one().keys()"
   ]
  },
  {
   "cell_type": "code",
   "execution_count": 8,
   "id": "d4ff9599",
   "metadata": {},
   "outputs": [
    {
     "data": {
      "text/plain": [
       "{'CODBDT': 828913,\n",
       " 'GEOCODIGO': '28001',\n",
       " 'MOVEMENT_ID': '1',\n",
       " 'DISPLAY_NAME': 'Código Postal 28001'}"
      ]
     },
     "execution_count": 8,
     "metadata": {},
     "output_type": "execute_result"
    }
   ],
   "source": [
    "codigos_postales_mongo.find_one()[\"properties\"]"
   ]
  },
  {
   "cell_type": "code",
   "execution_count": 9,
   "id": "d89d5066",
   "metadata": {},
   "outputs": [
    {
     "data": {
      "text/plain": [
       "dict_keys(['_id', 'type', 'properties', 'geometry'])"
      ]
     },
     "execution_count": 9,
     "metadata": {},
     "output_type": "execute_result"
    }
   ],
   "source": [
    "# Cargamos las colecciones desde MongoDB a este Notebook\n",
    "barrios_mongo             = db.get_collection(\"Barrios\")\n",
    "# Compruebo que la conexion funciona (con barrios)\n",
    "barrios_mongo.find_one().keys()"
   ]
  },
  {
   "cell_type": "code",
   "execution_count": 10,
   "id": "c20a632c",
   "metadata": {},
   "outputs": [
    {
     "data": {
      "text/plain": [
       "{'CODBDT': 860645,\n",
       " 'GEOCODIGO': '079011',\n",
       " 'MOVEMENT_ID': '1',\n",
       " 'DISPLAY_NAME': '011 Palacio'}"
      ]
     },
     "execution_count": 10,
     "metadata": {},
     "output_type": "execute_result"
    }
   ],
   "source": [
    "barrios_mongo.find_one()[\"properties\"]"
   ]
  },
  {
   "cell_type": "markdown",
   "id": "38cb3196",
   "metadata": {},
   "source": [
    "# Definimos lugares a buscar"
   ]
  },
  {
   "cell_type": "code",
   "execution_count": 20,
   "id": "efba2413",
   "metadata": {},
   "outputs": [
    {
     "name": "stdout",
     "output_type": "stream",
     "text": [
      "{'type': 'Point', 'coordinates': [40.4053485, -3.8764663]}\n",
      "{'type': 'Point', 'coordinates': [-3.8764663, 40.4053485]}\n"
     ]
    }
   ],
   "source": [
    "origen = \"Boadilla del Monte\"\n",
    "origen_ll   = consigue_type_point_lat_long(origen)\n",
    "print(origen_ll)\n",
    "origen_ll_T = permutar_lat_x_long(origen_ll)\n",
    "print(origen_ll_T)"
   ]
  },
  {
   "cell_type": "code",
   "execution_count": 21,
   "id": "09e1ae45",
   "metadata": {},
   "outputs": [
    {
     "name": "stdout",
     "output_type": "stream",
     "text": [
      "{'type': 'Point', 'coordinates': [40.4168624, -3.7043032918742496]}\n",
      "{'type': 'Point', 'coordinates': [-3.7043032918742496, 40.4168624]}\n"
     ]
    }
   ],
   "source": [
    "destino = \"Puerta del Sol, Madrid\"\n",
    "destino_ll   = consigue_type_point_lat_long(destino)\n",
    "print(destino_ll)\n",
    "destino_ll_T = permutar_lat_x_long(destino_ll)\n",
    "print(destino_ll_T)"
   ]
  },
  {
   "cell_type": "code",
   "execution_count": null,
   "id": "15c12a0d",
   "metadata": {},
   "outputs": [],
   "source": [
    "origen_ll[\"coordinates\"]"
   ]
  },
  {
   "cell_type": "code",
   "execution_count": null,
   "id": "46837c8c",
   "metadata": {},
   "outputs": [],
   "source": [
    "destino_ll[\"coordinates\"]"
   ]
  },
  {
   "cell_type": "code",
   "execution_count": null,
   "id": "4e46f3e8",
   "metadata": {},
   "outputs": [],
   "source": [
    "punto_central = [ (origen_ll[\"coordinates\"][0]+destino_ll[\"coordinates\"][0])/2 , \n",
    "                  (origen_ll[\"coordinates\"][1]+destino_ll[\"coordinates\"][1])/2 ]\n",
    "type_point(punto_central)"
   ]
  },
  {
   "cell_type": "markdown",
   "id": "889620ad",
   "metadata": {},
   "source": [
    "# Preparamos las geoqueries y la proyeccion con los datos interesantes"
   ]
  },
  {
   "cell_type": "code",
   "execution_count": null,
   "id": "7180bef6",
   "metadata": {},
   "outputs": [],
   "source": [
    "# lugar tiene que ir como tipo Point, con coordenadas al reves\n",
    "query = {\"geometry\": {\"$geoIntersects\": {\"$geometry\": lugar}}}"
   ]
  },
  {
   "cell_type": "code",
   "execution_count": null,
   "id": "bfe3ab46",
   "metadata": {},
   "outputs": [],
   "source": [
    "# Me guardo la proyección para que solo me dé el nombre del distrito\n",
    "barrios_proy          = {\"_id\":0, \"properties.DISPLAY_NAME\": 1, \"properties.MOVEMENT_ID\": 1}\n",
    "codigos_postales_proy = {\"_id\":0, \"properties.GEOCODIGO\": 1   , \"properties.MOVEMENT_ID\": 1}"
   ]
  },
  {
   "cell_type": "markdown",
   "id": "5bc3b79a",
   "metadata": {},
   "source": [
    "# Busco en la base de datos con la query y proyeccion"
   ]
  },
  {
   "cell_type": "code",
   "execution_count": null,
   "id": "1f2122e9",
   "metadata": {},
   "outputs": [],
   "source": [
    "b = buscar_barrio(destino)\n",
    "b"
   ]
  },
  {
   "cell_type": "code",
   "execution_count": null,
   "id": "e8e38843",
   "metadata": {},
   "outputs": [],
   "source": [
    "b = buscar_barrio(destino_ll)\n",
    "b"
   ]
  },
  {
   "cell_type": "code",
   "execution_count": null,
   "id": "18ccd05b",
   "metadata": {},
   "outputs": [],
   "source": [
    "b = buscar_barrio(destino_ll_T)\n",
    "b"
   ]
  },
  {
   "cell_type": "code",
   "execution_count": null,
   "id": "6b802341",
   "metadata": {},
   "outputs": [],
   "source": [
    "cp = buscar_codigo_postal(destino)\n",
    "cp"
   ]
  },
  {
   "cell_type": "code",
   "execution_count": null,
   "id": "5932281a",
   "metadata": {},
   "outputs": [],
   "source": [
    "cp = buscar_codigo_postal(destino_ll)\n",
    "cp"
   ]
  },
  {
   "cell_type": "code",
   "execution_count": null,
   "id": "84afa28a",
   "metadata": {},
   "outputs": [],
   "source": [
    "cp = buscar_codigo_postal(destino_ll_T)\n",
    "cp"
   ]
  },
  {
   "cell_type": "code",
   "execution_count": null,
   "id": "401d97ef",
   "metadata": {},
   "outputs": [],
   "source": []
  },
  {
   "cell_type": "code",
   "execution_count": null,
   "id": "a490a399",
   "metadata": {},
   "outputs": [],
   "source": []
  },
  {
   "cell_type": "markdown",
   "id": "b389ab71",
   "metadata": {},
   "source": [
    "# Me hago un GeoJson con los barrios origen y destino"
   ]
  },
  {
   "cell_type": "code",
   "execution_count": null,
   "id": "2788db35",
   "metadata": {},
   "outputs": [],
   "source": [
    "geo_barrios = json.load( open (\"data/madrid_barrios.geojson\")          )\n",
    "geo_codpost = json.load( open (\"data/madrid_codigos_postales.geojson\") )"
   ]
  },
  {
   "cell_type": "code",
   "execution_count": null,
   "id": "440f8ccf",
   "metadata": {},
   "outputs": [],
   "source": [
    "origin = \"Puerta del Sol, Madrid\"\n",
    "origin_ll = consigue_lat_long(origin)\n",
    "origin_ll_T = permutar_lat_x_long(consigue_type_point_lat_long(origin_ll))\n",
    "\n",
    "geo_Reduced = {'type': 'FeatureCollection',\n",
    "               'features': []}\n",
    "\n",
    "search_by = {}\n",
    "search_by[\"origin\"] = ( \"barrio\" , buscar_barrio(origin_ll_T) )\n",
    "if search_by[\"origin\"][1] != False:\n",
    "    query = {\"geometry\": {\"$geoIntersects\": {\"$geometry\": origin_ll_T}}}\n",
    "    c    = db.get_collection(\"Barrios\")\n",
    "    origin_geo = c.find_one(query)\n",
    "    origin_geo.pop('_id')\n",
    "    geo_Reduced[\"features\"].append(origin_geo)\n",
    "    geo_Reduced[\"features\"].append(origin_geo)\n",
    "elif search_by[\"origin\"][1] == False:\n",
    "    search_by[\"origin\"][0] = ( \"codigo_postal\" , buscar_codigo_postal(origin_ll_T) )\n",
    "    if search_by[\"origin\"][1] == False:\n",
    "        search_by[\"origin\"] = ( \"No encontrado\" , \"No encontrado\" )\n",
    "    \n",
    "destiny = \"Paseo de la Chopera, 14 Madrid\"\n",
    "destiny_ll = consigue_lat_long(destiny)\n",
    "destiny_ll_T = permutar_lat_x_long(consigue_type_point_lat_long(destiny_ll))\n",
    "search_by[\"destiny\"] = ( \"barrio\" , buscar_barrio(destiny_ll_T) )\n",
    "if search_by[\"destiny\"][1] != False:\n",
    "    query = {\"geometry\": {\"$geoIntersects\": {\"$geometry\": destiny_ll_T}}}\n",
    "    c    = db.get_collection(\"Barrios\")\n",
    "    destiny_geo = c.find_one(query)\n",
    "    destiny_geo.pop('_id')\n",
    "    geo_Reduced[\"features\"].append(destiny_geo)\n",
    "elif search_by[\"destiny\"][1] == False:\n",
    "    search_by = ( \"codigo_postal\" , buscar_codigo_postal(destiny_ll_T) )\n",
    "    if search_by[\"destiny\"][1] == False:\n",
    "        search_by[\"destiny\"] = ( \"No encontrado\" , \"No encontrado\" )\n",
    "print(search_by)"
   ]
  },
  {
   "cell_type": "code",
   "execution_count": null,
   "id": "846a078b",
   "metadata": {},
   "outputs": [],
   "source": [
    "#geo_Reduced"
   ]
  },
  {
   "cell_type": "code",
   "execution_count": null,
   "id": "03151890",
   "metadata": {},
   "outputs": [],
   "source": [
    "geo_Reduced[\"type\"]"
   ]
  },
  {
   "cell_type": "code",
   "execution_count": null,
   "id": "7a01e321",
   "metadata": {},
   "outputs": [],
   "source": [
    "len(geo_Reduced[\"features\"])"
   ]
  },
  {
   "cell_type": "code",
   "execution_count": null,
   "id": "6d457bf3",
   "metadata": {},
   "outputs": [],
   "source": [
    "geo_Reduced[\"features\"][0][\"properties\"][\"\"]"
   ]
  },
  {
   "cell_type": "code",
   "execution_count": null,
   "id": "f0a48e23",
   "metadata": {},
   "outputs": [],
   "source": []
  },
  {
   "cell_type": "code",
   "execution_count": null,
   "id": "8618f48d",
   "metadata": {},
   "outputs": [],
   "source": [
    "import folium\n",
    "\n",
    "punto_central = [(origin_ll[0]+destiny_ll[0])/2 , (origin_ll[1]+destiny_ll[1])/2 ]\n",
    "\n",
    "map_1 = folium.Map(location = punto_central, zoom_start=13)\n",
    "\n",
    "folium.GeoJson(geo_Reduced, style_function=lambda feature: {'fillColor': 'blue',\n",
    "                                                            'color': 'blue',\n",
    "                                                            'weight': 1,\n",
    "                                                            'dashArray': '5, 5'} ).add_to(map_1)\n",
    "\n",
    "map_1"
   ]
  },
  {
   "cell_type": "code",
   "execution_count": null,
   "id": "46aa4554",
   "metadata": {},
   "outputs": [],
   "source": []
  }
 ],
 "metadata": {
  "kernelspec": {
   "display_name": "project",
   "language": "python",
   "name": "project"
  },
  "language_info": {
   "codemirror_mode": {
    "name": "ipython",
    "version": 3
   },
   "file_extension": ".py",
   "mimetype": "text/x-python",
   "name": "python",
   "nbconvert_exporter": "python",
   "pygments_lexer": "ipython3",
   "version": "3.10.0"
  }
 },
 "nbformat": 4,
 "nbformat_minor": 5
}

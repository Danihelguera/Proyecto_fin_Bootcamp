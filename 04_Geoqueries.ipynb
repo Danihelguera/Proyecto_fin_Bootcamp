{
 "cells": [
  {
   "cell_type": "markdown",
   "id": "30404238",
   "metadata": {},
   "source": [
    "# Importamos librerías y definimos funciones:"
   ]
  },
  {
   "cell_type": "code",
   "execution_count": 1,
   "id": "076c9b34",
   "metadata": {},
   "outputs": [],
   "source": [
    "import json\n",
    "\n",
    "from pymongo import MongoClient\n",
    "from pymongo import GEOSPHERE\n",
    "\n",
    "from geopy.geocoders import Nominatim\n"
   ]
  },
  {
   "cell_type": "code",
   "execution_count": 18,
   "id": "fe675a43",
   "metadata": {},
   "outputs": [],
   "source": [
    "def type_point(lista):\n",
    "    return {\"type\":\"Point\", \"coordinates\": lista}\n",
    "\n",
    "def consigue_lat_long(direccion):\n",
    "    \"\"\"\n",
    "    Esta función saca las coordenadas de la dirección que le pases\n",
    "    y la devuelve como lista [lat,long]\n",
    "    \"\"\"\n",
    "    geolocator = Nominatim(user_agent=\"dddddddddddddddddd@gmail.com\")\n",
    "    location = geolocator.geocode(direccion)\n",
    "    return [location.latitude, location.longitude]\n",
    "\n",
    "def consigue_type_point_lat_long(direccion):\n",
    "    \"\"\"\n",
    "    Esta función saca las coordenadas de la dirección que le pases\n",
    "    y la devuelve en type:point \n",
    "    \"\"\"\n",
    "    return type_point( consigue_lat_long(direccion) )\n",
    "\n",
    "def permutar_lat_x_long(lugar):\n",
    "    lugar_T = type_point([lugar[\"coordinates\"][1] , lugar[\"coordinates\"][0] ])\n",
    "    return lugar_T\n",
    "\n",
    "def buscar_barrio(lugar) :\n",
    "    query = {\"geometry\": {\"$geoIntersects\": {\"$geometry\": lugar}}}\n",
    "    c    = db.get_collection(\"Barrios\")\n",
    "    proy = {\"_id\":0, \"properties.DISPLAY_NAME\": 1, \"properties.MOVEMENT_ID\": 1}\n",
    "    try:\n",
    "        return c.find_one(query,proy)[\"properties\"]['MOVEMENT_ID']\n",
    "    except:\n",
    "        return False\n",
    "\n",
    "def buscar_codigo_postal(lugar) :\n",
    "    query = {\"geometry\": {\"$geoIntersects\": {\"$geometry\": lugar}}}\n",
    "    c    = db.get_collection(\"Codigos_Postales\")\n",
    "    proy = {\"_id\":0, \"properties.GEOCODIGO\": 1   , \"properties.MOVEMENT_ID\": 1}\n",
    "    try:\n",
    "        return c.find_one(query,proy)[\"properties\"]['MOVEMENT_ID']\n",
    "    except:\n",
    "        return False\n"
   ]
  },
  {
   "cell_type": "markdown",
   "id": "b7909dd4",
   "metadata": {},
   "source": [
    "# Cargamos los geojson en este Notebook"
   ]
  },
  {
   "cell_type": "code",
   "execution_count": 3,
   "id": "34e383f6",
   "metadata": {},
   "outputs": [],
   "source": [
    "geo_barrios = json.load( open (\"data/madrid_barrios.geojson\")          )\n",
    "geo_codpost = json.load( open (\"data/madrid_codigos_postales.geojson\") )"
   ]
  },
  {
   "cell_type": "code",
   "execution_count": 4,
   "id": "776f6b81",
   "metadata": {},
   "outputs": [],
   "source": [
    "# Exportamos los geojson a jsons capaces de importar en MongoDB\n",
    "json.dump(geo_barrios[\"features\"], open (\"data/madrid_barrios.json\", \"w\") )\n",
    "json.dump(geo_codpost[\"features\"], open (\"data/madrid_codigos_postales.json\", \"w\") )"
   ]
  },
  {
   "cell_type": "markdown",
   "id": "dc37b6ad",
   "metadata": {},
   "source": [
    "# Conectamos con la base de datos en MongoDB"
   ]
  },
  {
   "cell_type": "code",
   "execution_count": 5,
   "id": "6700fba3",
   "metadata": {},
   "outputs": [],
   "source": [
    "# Conectamos con la base de datos:\n",
    "\n",
    "client = MongoClient(\"localhost:27017\")\n",
    "db = client.get_database(\"Coropleticos_Madrid\")"
   ]
  },
  {
   "cell_type": "code",
   "execution_count": 6,
   "id": "f409f0b0",
   "metadata": {},
   "outputs": [],
   "source": [
    "# Creamos la indexación geoespacial de MongoDB para ejecutar eficientemente consultas espaciales\n",
    "# Esto sólo debe hacerse una vez, y luego la colección de Mongo está correctamente indexada para siempre.\n",
    "\n",
    "#db.Barrios.create_index([(\"geometry\", GEOSPHERE)])\n",
    "#db.Codigos_postales.create_index([(\"geometry\", GEOSPHERE)])\n"
   ]
  },
  {
   "cell_type": "code",
   "execution_count": 26,
   "id": "b2ba03ba",
   "metadata": {},
   "outputs": [
    {
     "data": {
      "text/plain": [
       "dict_keys(['_id', 'type', 'properties', 'geometry'])"
      ]
     },
     "execution_count": 26,
     "metadata": {},
     "output_type": "execute_result"
    }
   ],
   "source": [
    "# Cargamos las colecciones desde MongoDB a este Notebook\n",
    "codigos_postales_mongo    = db.get_collection(\"Codigos_Postales\")\n",
    "# Compruebo que la conexion funciona (con codigos postales)\n",
    "codigos_postales_mongo.find_one().keys()"
   ]
  },
  {
   "cell_type": "code",
   "execution_count": 27,
   "id": "d4ff9599",
   "metadata": {},
   "outputs": [
    {
     "data": {
      "text/plain": [
       "{'CODBDT': 828913,\n",
       " 'GEOCODIGO': '28001',\n",
       " 'MOVEMENT_ID': '1',\n",
       " 'DISPLAY_NAME': 'Código Postal 28001'}"
      ]
     },
     "execution_count": 27,
     "metadata": {},
     "output_type": "execute_result"
    }
   ],
   "source": [
    "codigos_postales_mongo.find_one()[\"properties\"]"
   ]
  },
  {
   "cell_type": "code",
   "execution_count": 28,
   "id": "d89d5066",
   "metadata": {},
   "outputs": [
    {
     "data": {
      "text/plain": [
       "dict_keys(['_id', 'type', 'properties', 'geometry'])"
      ]
     },
     "execution_count": 28,
     "metadata": {},
     "output_type": "execute_result"
    }
   ],
   "source": [
    "# Cargamos las colecciones desde MongoDB a este Notebook\n",
    "barrios_mongo             = db.get_collection(\"Barrios\")\n",
    "# Compruebo que la conexion funciona (con barrios)\n",
    "barrios_mongo.find_one().keys()"
   ]
  },
  {
   "cell_type": "code",
   "execution_count": 29,
   "id": "c20a632c",
   "metadata": {},
   "outputs": [
    {
     "data": {
      "text/plain": [
       "{'CODBDT': 860645,\n",
       " 'GEOCODIGO': '079011',\n",
       " 'MOVEMENT_ID': '1',\n",
       " 'DISPLAY_NAME': '011 Palacio'}"
      ]
     },
     "execution_count": 29,
     "metadata": {},
     "output_type": "execute_result"
    }
   ],
   "source": [
    "barrios_mongo.find_one()[\"properties\"]"
   ]
  },
  {
   "cell_type": "markdown",
   "id": "38cb3196",
   "metadata": {},
   "source": [
    "# Definimos lugares a buscar"
   ]
  },
  {
   "cell_type": "code",
   "execution_count": 94,
   "id": "efba2413",
   "metadata": {},
   "outputs": [
    {
     "name": "stdout",
     "output_type": "stream",
     "text": [
      "{'type': 'Point', 'coordinates': [40.3920606, -3.6978319]}\n",
      "{'type': 'Point', 'coordinates': [-3.6978319, 40.3920606]}\n"
     ]
    }
   ],
   "source": [
    "origen = \"Paseo de la chopera, 14, Madrid\"\n",
    "origen_ll   = consigue_type_point_lat_long(origen)\n",
    "print(origen_ll)\n",
    "origen_ll_T = permutar_lat_x_long(origen_ll)\n",
    "print(origen_ll_T)"
   ]
  },
  {
   "cell_type": "code",
   "execution_count": 95,
   "id": "09e1ae45",
   "metadata": {},
   "outputs": [
    {
     "name": "stdout",
     "output_type": "stream",
     "text": [
      "{'type': 'Point', 'coordinates': [40.4168624, -3.7043032918742496]}\n",
      "{'type': 'Point', 'coordinates': [-3.7043032918742496, 40.4168624]}\n"
     ]
    }
   ],
   "source": [
    "destino = \"Puerta del Sol, Madrid\"\n",
    "destino_ll   = consigue_type_point_lat_long(destino)\n",
    "print(destino_ll)\n",
    "destino_ll_T = permutar_lat_x_long(destino_ll)\n",
    "print(destino_ll_T)"
   ]
  },
  {
   "cell_type": "code",
   "execution_count": 98,
   "id": "15c12a0d",
   "metadata": {},
   "outputs": [
    {
     "data": {
      "text/plain": [
       "[40.3920606, -3.6978319]"
      ]
     },
     "execution_count": 98,
     "metadata": {},
     "output_type": "execute_result"
    }
   ],
   "source": [
    "origen_ll[\"coordinates\"]"
   ]
  },
  {
   "cell_type": "code",
   "execution_count": 100,
   "id": "46837c8c",
   "metadata": {},
   "outputs": [
    {
     "data": {
      "text/plain": [
       "[40.4168624, -3.7043032918742496]"
      ]
     },
     "execution_count": 100,
     "metadata": {},
     "output_type": "execute_result"
    }
   ],
   "source": [
    "destino_ll[\"coordinates\"]"
   ]
  },
  {
   "cell_type": "code",
   "execution_count": 103,
   "id": "4e46f3e8",
   "metadata": {},
   "outputs": [
    {
     "data": {
      "text/plain": [
       "{'type': 'Point', 'coordinates': [40.4044615, -3.7010675959371246]}"
      ]
     },
     "execution_count": 103,
     "metadata": {},
     "output_type": "execute_result"
    }
   ],
   "source": [
    "punto_central = [ (origen_ll[\"coordinates\"][0]+destino_ll[\"coordinates\"][0])/2 , \n",
    "                  (origen_ll[\"coordinates\"][1]+destino_ll[\"coordinates\"][1])/2 ]\n",
    "type_point(punto_central)"
   ]
  },
  {
   "cell_type": "markdown",
   "id": "889620ad",
   "metadata": {},
   "source": [
    "# Preparamos las geoqueries y la proyeccion con los datos interesantes"
   ]
  },
  {
   "cell_type": "code",
   "execution_count": null,
   "id": "7180bef6",
   "metadata": {},
   "outputs": [],
   "source": [
    "# lugar tiene que ir como tipo Point, con coordenadas al reves\n",
    "query = {\"geometry\": {\"$geoIntersects\": {\"$geometry\": lugar}}}"
   ]
  },
  {
   "cell_type": "code",
   "execution_count": null,
   "id": "bfe3ab46",
   "metadata": {},
   "outputs": [],
   "source": [
    "# Me guardo la proyección para que solo me dé el nombre del distrito\n",
    "barrios_proy          = {\"_id\":0, \"properties.DISPLAY_NAME\": 1, \"properties.MOVEMENT_ID\": 1}\n",
    "codigos_postales_proy = {\"_id\":0, \"properties.GEOCODIGO\": 1   , \"properties.MOVEMENT_ID\": 1}"
   ]
  },
  {
   "cell_type": "markdown",
   "id": "5bc3b79a",
   "metadata": {},
   "source": [
    "# Busco en la base de datos con la query y proyeccion"
   ]
  },
  {
   "cell_type": "code",
   "execution_count": 19,
   "id": "1f2122e9",
   "metadata": {},
   "outputs": [
    {
     "data": {
      "text/plain": [
       "False"
      ]
     },
     "execution_count": 19,
     "metadata": {},
     "output_type": "execute_result"
    }
   ],
   "source": [
    "b = buscar_barrio(destino)\n",
    "b"
   ]
  },
  {
   "cell_type": "code",
   "execution_count": 20,
   "id": "e8e38843",
   "metadata": {},
   "outputs": [
    {
     "data": {
      "text/plain": [
       "False"
      ]
     },
     "execution_count": 20,
     "metadata": {},
     "output_type": "execute_result"
    }
   ],
   "source": [
    "b = buscar_barrio(destino_ll)\n",
    "b"
   ]
  },
  {
   "cell_type": "code",
   "execution_count": 21,
   "id": "18ccd05b",
   "metadata": {},
   "outputs": [
    {
     "data": {
      "text/plain": [
       "'6'"
      ]
     },
     "execution_count": 21,
     "metadata": {},
     "output_type": "execute_result"
    }
   ],
   "source": [
    "b = buscar_barrio(destino_ll_T)\n",
    "b"
   ]
  },
  {
   "cell_type": "code",
   "execution_count": 23,
   "id": "6b802341",
   "metadata": {},
   "outputs": [
    {
     "data": {
      "text/plain": [
       "False"
      ]
     },
     "execution_count": 23,
     "metadata": {},
     "output_type": "execute_result"
    }
   ],
   "source": [
    "cp = buscar_codigo_postal(destino)\n",
    "cp"
   ]
  },
  {
   "cell_type": "code",
   "execution_count": 24,
   "id": "5932281a",
   "metadata": {},
   "outputs": [
    {
     "data": {
      "text/plain": [
       "False"
      ]
     },
     "execution_count": 24,
     "metadata": {},
     "output_type": "execute_result"
    }
   ],
   "source": [
    "cp = buscar_codigo_postal(destino_ll)\n",
    "cp"
   ]
  },
  {
   "cell_type": "code",
   "execution_count": 25,
   "id": "84afa28a",
   "metadata": {},
   "outputs": [
    {
     "data": {
      "text/plain": [
       "'13'"
      ]
     },
     "execution_count": 25,
     "metadata": {},
     "output_type": "execute_result"
    }
   ],
   "source": [
    "cp = buscar_codigo_postal(destino_ll_T)\n",
    "cp"
   ]
  },
  {
   "cell_type": "code",
   "execution_count": null,
   "id": "401d97ef",
   "metadata": {},
   "outputs": [],
   "source": []
  },
  {
   "cell_type": "code",
   "execution_count": null,
   "id": "a490a399",
   "metadata": {},
   "outputs": [],
   "source": []
  },
  {
   "cell_type": "markdown",
   "id": "b389ab71",
   "metadata": {},
   "source": [
    "# Me hago un GeoJson con los barrios origen y destino"
   ]
  },
  {
   "cell_type": "code",
   "execution_count": 38,
   "id": "2788db35",
   "metadata": {},
   "outputs": [],
   "source": [
    "geo_barrios = json.load( open (\"data/madrid_barrios.geojson\")          )\n",
    "geo_codpost = json.load( open (\"data/madrid_codigos_postales.geojson\") )"
   ]
  },
  {
   "cell_type": "code",
   "execution_count": 86,
   "id": "440f8ccf",
   "metadata": {},
   "outputs": [
    {
     "name": "stdout",
     "output_type": "stream",
     "text": [
      "{'origin': ('barrio', '6'), 'destiny': ('barrio', '9')}\n"
     ]
    }
   ],
   "source": [
    "origin = \"Puerta del Sol, Madrid\"\n",
    "origin_ll = consigue_lat_long(origin)\n",
    "origin_ll_T = permutar_lat_x_long(consigue_type_point_lat_long(origin_ll))\n",
    "\n",
    "geo_Reduced = {'type': 'FeatureCollection',\n",
    "               'features': []}\n",
    "\n",
    "search_by = {}\n",
    "search_by[\"origin\"] = ( \"barrio\" , buscar_barrio(origin_ll_T) )\n",
    "if search_by[\"origin\"][1] != False:\n",
    "    query = {\"geometry\": {\"$geoIntersects\": {\"$geometry\": origin_ll_T}}}\n",
    "    c    = db.get_collection(\"Barrios\")\n",
    "    origin_geo = c.find_one(query)\n",
    "    origin_geo.pop('_id')\n",
    "    geo_Reduced[\"features\"].append(origin_geo)\n",
    "    geo_Reduced[\"features\"].append(origin_geo)\n",
    "elif search_by[\"origin\"][1] == False:\n",
    "    search_by[\"origin\"][0] = ( \"codigo_postal\" , buscar_codigo_postal(origin_ll_T) )\n",
    "    if search_by[\"origin\"][1] == False:\n",
    "        search_by[\"origin\"] = ( \"No encontrado\" , \"No encontrado\" )\n",
    "    \n",
    "destiny = \"Paseo de la Chopera, 14 Madrid\"\n",
    "destiny_ll = consigue_lat_long(destiny)\n",
    "destiny_ll_T = permutar_lat_x_long(consigue_type_point_lat_long(destiny_ll))\n",
    "search_by[\"destiny\"] = ( \"barrio\" , buscar_barrio(destiny_ll_T) )\n",
    "if search_by[\"destiny\"][1] != False:\n",
    "    query = {\"geometry\": {\"$geoIntersects\": {\"$geometry\": destiny_ll_T}}}\n",
    "    c    = db.get_collection(\"Barrios\")\n",
    "    destiny_geo = c.find_one(query)\n",
    "    destiny_geo.pop('_id')\n",
    "    geo_Reduced[\"features\"].append(destiny_geo)\n",
    "elif search_by[\"destiny\"][1] == False:\n",
    "    search_by = ( \"codigo_postal\" , buscar_codigo_postal(destiny_ll_T) )\n",
    "    if search_by[\"destiny\"][1] == False:\n",
    "        search_by[\"destiny\"] = ( \"No encontrado\" , \"No encontrado\" )\n",
    "print(search_by)"
   ]
  },
  {
   "cell_type": "code",
   "execution_count": 104,
   "id": "846a078b",
   "metadata": {},
   "outputs": [],
   "source": [
    "#geo_Reduced"
   ]
  },
  {
   "cell_type": "code",
   "execution_count": 88,
   "id": "03151890",
   "metadata": {},
   "outputs": [
    {
     "data": {
      "text/plain": [
       "'FeatureCollection'"
      ]
     },
     "execution_count": 88,
     "metadata": {},
     "output_type": "execute_result"
    }
   ],
   "source": [
    "geo_Reduced[\"type\"]"
   ]
  },
  {
   "cell_type": "code",
   "execution_count": 90,
   "id": "7a01e321",
   "metadata": {},
   "outputs": [
    {
     "data": {
      "text/plain": [
       "2"
      ]
     },
     "execution_count": 90,
     "metadata": {},
     "output_type": "execute_result"
    }
   ],
   "source": [
    "len(geo_Reduced[\"features\"])"
   ]
  },
  {
   "cell_type": "code",
   "execution_count": 93,
   "id": "6d457bf3",
   "metadata": {},
   "outputs": [
    {
     "data": {
      "text/plain": [
       "{'CODBDT': 860650,\n",
       " 'GEOCODIGO': '079016',\n",
       " 'MOVEMENT_ID': '6',\n",
       " 'DISPLAY_NAME': '016 Sol'}"
      ]
     },
     "execution_count": 93,
     "metadata": {},
     "output_type": "execute_result"
    }
   ],
   "source": [
    "geo_Reduced[\"features\"][0][\"properties\"][\"\"]"
   ]
  },
  {
   "cell_type": "code",
   "execution_count": null,
   "id": "f0a48e23",
   "metadata": {},
   "outputs": [],
   "source": []
  },
  {
   "cell_type": "code",
   "execution_count": 109,
   "id": "8618f48d",
   "metadata": {},
   "outputs": [
    {
     "data": {
      "text/html": [
       "<div style=\"width:100%;\"><div style=\"position:relative;width:100%;height:0;padding-bottom:60%;\"><span style=\"color:#565656\">Make this Notebook Trusted to load map: File -> Trust Notebook</span><iframe src=\"about:blank\" style=\"position:absolute;width:100%;height:100%;left:0;top:0;border:none !important;\" data-html=%3C%21DOCTYPE%20html%3E%0A%3Chead%3E%20%20%20%20%0A%20%20%20%20%3Cmeta%20http-equiv%3D%22content-type%22%20content%3D%22text/html%3B%20charset%3DUTF-8%22%20/%3E%0A%20%20%20%20%0A%20%20%20%20%20%20%20%20%3Cscript%3E%0A%20%20%20%20%20%20%20%20%20%20%20%20L_NO_TOUCH%20%3D%20false%3B%0A%20%20%20%20%20%20%20%20%20%20%20%20L_DISABLE_3D%20%3D%20false%3B%0A%20%20%20%20%20%20%20%20%3C/script%3E%0A%20%20%20%20%0A%20%20%20%20%3Cstyle%3Ehtml%2C%20body%20%7Bwidth%3A%20100%25%3Bheight%3A%20100%25%3Bmargin%3A%200%3Bpadding%3A%200%3B%7D%3C/style%3E%0A%20%20%20%20%3Cstyle%3E%23map%20%7Bposition%3Aabsolute%3Btop%3A0%3Bbottom%3A0%3Bright%3A0%3Bleft%3A0%3B%7D%3C/style%3E%0A%20%20%20%20%3Cscript%20src%3D%22https%3A//cdn.jsdelivr.net/npm/leaflet%401.6.0/dist/leaflet.js%22%3E%3C/script%3E%0A%20%20%20%20%3Cscript%20src%3D%22https%3A//code.jquery.com/jquery-1.12.4.min.js%22%3E%3C/script%3E%0A%20%20%20%20%3Cscript%20src%3D%22https%3A//maxcdn.bootstrapcdn.com/bootstrap/3.2.0/js/bootstrap.min.js%22%3E%3C/script%3E%0A%20%20%20%20%3Cscript%20src%3D%22https%3A//cdnjs.cloudflare.com/ajax/libs/Leaflet.awesome-markers/2.0.2/leaflet.awesome-markers.js%22%3E%3C/script%3E%0A%20%20%20%20%3Clink%20rel%3D%22stylesheet%22%20href%3D%22https%3A//cdn.jsdelivr.net/npm/leaflet%401.6.0/dist/leaflet.css%22/%3E%0A%20%20%20%20%3Clink%20rel%3D%22stylesheet%22%20href%3D%22https%3A//maxcdn.bootstrapcdn.com/bootstrap/3.2.0/css/bootstrap.min.css%22/%3E%0A%20%20%20%20%3Clink%20rel%3D%22stylesheet%22%20href%3D%22https%3A//maxcdn.bootstrapcdn.com/bootstrap/3.2.0/css/bootstrap-theme.min.css%22/%3E%0A%20%20%20%20%3Clink%20rel%3D%22stylesheet%22%20href%3D%22https%3A//maxcdn.bootstrapcdn.com/font-awesome/4.6.3/css/font-awesome.min.css%22/%3E%0A%20%20%20%20%3Clink%20rel%3D%22stylesheet%22%20href%3D%22https%3A//cdnjs.cloudflare.com/ajax/libs/Leaflet.awesome-markers/2.0.2/leaflet.awesome-markers.css%22/%3E%0A%20%20%20%20%3Clink%20rel%3D%22stylesheet%22%20href%3D%22https%3A//cdn.jsdelivr.net/gh/python-visualization/folium/folium/templates/leaflet.awesome.rotate.min.css%22/%3E%0A%20%20%20%20%0A%20%20%20%20%20%20%20%20%20%20%20%20%3Cmeta%20name%3D%22viewport%22%20content%3D%22width%3Ddevice-width%2C%0A%20%20%20%20%20%20%20%20%20%20%20%20%20%20%20%20initial-scale%3D1.0%2C%20maximum-scale%3D1.0%2C%20user-scalable%3Dno%22%20/%3E%0A%20%20%20%20%20%20%20%20%20%20%20%20%3Cstyle%3E%0A%20%20%20%20%20%20%20%20%20%20%20%20%20%20%20%20%23map_007d37763d1b469fb2a0e1a76fe491b8%20%7B%0A%20%20%20%20%20%20%20%20%20%20%20%20%20%20%20%20%20%20%20%20position%3A%20relative%3B%0A%20%20%20%20%20%20%20%20%20%20%20%20%20%20%20%20%20%20%20%20width%3A%20100.0%25%3B%0A%20%20%20%20%20%20%20%20%20%20%20%20%20%20%20%20%20%20%20%20height%3A%20100.0%25%3B%0A%20%20%20%20%20%20%20%20%20%20%20%20%20%20%20%20%20%20%20%20left%3A%200.0%25%3B%0A%20%20%20%20%20%20%20%20%20%20%20%20%20%20%20%20%20%20%20%20top%3A%200.0%25%3B%0A%20%20%20%20%20%20%20%20%20%20%20%20%20%20%20%20%7D%0A%20%20%20%20%20%20%20%20%20%20%20%20%3C/style%3E%0A%20%20%20%20%20%20%20%20%0A%3C/head%3E%0A%3Cbody%3E%20%20%20%20%0A%20%20%20%20%0A%20%20%20%20%20%20%20%20%20%20%20%20%3Cdiv%20class%3D%22folium-map%22%20id%3D%22map_007d37763d1b469fb2a0e1a76fe491b8%22%20%3E%3C/div%3E%0A%20%20%20%20%20%20%20%20%0A%3C/body%3E%0A%3Cscript%3E%20%20%20%20%0A%20%20%20%20%0A%20%20%20%20%20%20%20%20%20%20%20%20var%20map_007d37763d1b469fb2a0e1a76fe491b8%20%3D%20L.map%28%0A%20%20%20%20%20%20%20%20%20%20%20%20%20%20%20%20%22map_007d37763d1b469fb2a0e1a76fe491b8%22%2C%0A%20%20%20%20%20%20%20%20%20%20%20%20%20%20%20%20%7B%0A%20%20%20%20%20%20%20%20%20%20%20%20%20%20%20%20%20%20%20%20center%3A%20%5B40.4044615%2C%20-3.7010675959371246%5D%2C%0A%20%20%20%20%20%20%20%20%20%20%20%20%20%20%20%20%20%20%20%20crs%3A%20L.CRS.EPSG3857%2C%0A%20%20%20%20%20%20%20%20%20%20%20%20%20%20%20%20%20%20%20%20zoom%3A%2013%2C%0A%20%20%20%20%20%20%20%20%20%20%20%20%20%20%20%20%20%20%20%20zoomControl%3A%20true%2C%0A%20%20%20%20%20%20%20%20%20%20%20%20%20%20%20%20%20%20%20%20preferCanvas%3A%20false%2C%0A%20%20%20%20%20%20%20%20%20%20%20%20%20%20%20%20%7D%0A%20%20%20%20%20%20%20%20%20%20%20%20%29%3B%0A%0A%20%20%20%20%20%20%20%20%20%20%20%20%0A%0A%20%20%20%20%20%20%20%20%0A%20%20%20%20%0A%20%20%20%20%20%20%20%20%20%20%20%20var%20tile_layer_99049c1f783e470080e21db15a763288%20%3D%20L.tileLayer%28%0A%20%20%20%20%20%20%20%20%20%20%20%20%20%20%20%20%22https%3A//%7Bs%7D.tile.openstreetmap.org/%7Bz%7D/%7Bx%7D/%7By%7D.png%22%2C%0A%20%20%20%20%20%20%20%20%20%20%20%20%20%20%20%20%7B%22attribution%22%3A%20%22Data%20by%20%5Cu0026copy%3B%20%5Cu003ca%20href%3D%5C%22http%3A//openstreetmap.org%5C%22%5Cu003eOpenStreetMap%5Cu003c/a%5Cu003e%2C%20under%20%5Cu003ca%20href%3D%5C%22http%3A//www.openstreetmap.org/copyright%5C%22%5Cu003eODbL%5Cu003c/a%5Cu003e.%22%2C%20%22detectRetina%22%3A%20false%2C%20%22maxNativeZoom%22%3A%2018%2C%20%22maxZoom%22%3A%2018%2C%20%22minZoom%22%3A%200%2C%20%22noWrap%22%3A%20false%2C%20%22opacity%22%3A%201%2C%20%22subdomains%22%3A%20%22abc%22%2C%20%22tms%22%3A%20false%7D%0A%20%20%20%20%20%20%20%20%20%20%20%20%29.addTo%28map_007d37763d1b469fb2a0e1a76fe491b8%29%3B%0A%20%20%20%20%20%20%20%20%0A%20%20%20%20%0A%20%20%20%20%20%20%20%20function%20geo_json_d0afa7e06c844f7e90ac2ebfeefcb0d6_styler%28feature%29%20%7B%0A%20%20%20%20%20%20%20%20%20%20%20%20switch%28feature.properties.CODBDT%29%20%7B%0A%20%20%20%20%20%20%20%20%20%20%20%20%20%20%20%20default%3A%0A%20%20%20%20%20%20%20%20%20%20%20%20%20%20%20%20%20%20%20%20return%20%7B%22color%22%3A%20%22blue%22%2C%20%22dashArray%22%3A%20%225%2C%205%22%2C%20%22fillColor%22%3A%20%22blue%22%2C%20%22weight%22%3A%201%7D%3B%0A%20%20%20%20%20%20%20%20%20%20%20%20%7D%0A%20%20%20%20%20%20%20%20%7D%0A%0A%20%20%20%20%20%20%20%20function%20geo_json_d0afa7e06c844f7e90ac2ebfeefcb0d6_onEachFeature%28feature%2C%20layer%29%20%7B%0A%20%20%20%20%20%20%20%20%20%20%20%20layer.on%28%7B%0A%20%20%20%20%20%20%20%20%20%20%20%20%7D%29%3B%0A%20%20%20%20%20%20%20%20%7D%3B%0A%20%20%20%20%20%20%20%20var%20geo_json_d0afa7e06c844f7e90ac2ebfeefcb0d6%20%3D%20L.geoJson%28null%2C%20%7B%0A%20%20%20%20%20%20%20%20%20%20%20%20%20%20%20%20onEachFeature%3A%20geo_json_d0afa7e06c844f7e90ac2ebfeefcb0d6_onEachFeature%2C%0A%20%20%20%20%20%20%20%20%20%20%20%20%0A%20%20%20%20%20%20%20%20%20%20%20%20%20%20%20%20style%3A%20geo_json_d0afa7e06c844f7e90ac2ebfeefcb0d6_styler%2C%0A%20%20%20%20%20%20%20%20%7D%29%3B%0A%0A%20%20%20%20%20%20%20%20function%20geo_json_d0afa7e06c844f7e90ac2ebfeefcb0d6_add%20%28data%29%20%7B%0A%20%20%20%20%20%20%20%20%20%20%20%20geo_json_d0afa7e06c844f7e90ac2ebfeefcb0d6%0A%20%20%20%20%20%20%20%20%20%20%20%20%20%20%20%20.addData%28data%29%0A%20%20%20%20%20%20%20%20%20%20%20%20%20%20%20%20.addTo%28map_007d37763d1b469fb2a0e1a76fe491b8%29%3B%0A%20%20%20%20%20%20%20%20%7D%0A%20%20%20%20%20%20%20%20%20%20%20%20geo_json_d0afa7e06c844f7e90ac2ebfeefcb0d6_add%28%7B%22features%22%3A%20%5B%7B%22geometry%22%3A%20%7B%22coordinates%22%3A%20%5B%5B%5B-3.7041641%2C%2040.4201892%5D%2C%20%5B-3.7039649%2C%2040.4201752%5D%2C%20%5B-3.7038275%2C%2040.4201658%5D%2C%20%5B-3.7037359%2C%2040.4201594%5D%2C%20%5B-3.7034683%2C%2040.420141%5D%2C%20%5B-3.7032271%2C%2040.4201245%5D%2C%20%5B-3.7031125%2C%2040.4201167%5D%2C%20%5B-3.7030167%2C%2040.4201101%5D%2C%20%5B-3.7027758%2C%2040.4200937%5D%2C%20%5B-3.7026656%2C%2040.4200862%5D%2C%20%5B-3.7024498%2C%2040.4200715%5D%2C%20%5B-3.7023027%2C%2040.4200614%5D%2C%20%5B-3.7021935%2C%2040.4200537%5D%2C%20%5B-3.7019903%2C%2040.4200393%5D%2C%20%5B-3.7018549%2C%2040.4200298%5D%2C%20%5B-3.7016492%2C%2040.4200153%5D%2C%20%5B-3.7015743%2C%2040.4200115%5D%2C%20%5B-3.7015144%2C%2040.4200091%5D%2C%20%5B-3.7014831%2C%2040.4200088%5D%2C%20%5B-3.701408%2C%2040.420011%5D%2C%20%5B-3.701391%2C%2040.4200115%5D%2C%20%5B-3.701268%2C%2040.4200111%5D%2C%20%5B-3.7011708%2C%2040.420006%5D%2C%20%5B-3.7011064%2C%2040.4200015%5D%2C%20%5B-3.7010244%2C%2040.4199959%5D%2C%20%5B-3.7009849%2C%2040.4199908%5D%2C%20%5B-3.7009099%2C%2040.4199841%5D%2C%20%5B-3.7008701%2C%2040.4199789%5D%2C%20%5B-3.7008391%2C%2040.4199748%5D%2C%20%5B-3.7006732%2C%2040.419953%5D%2C%20%5B-3.7005879%2C%2040.4199388%5D%2C%20%5B-3.7005829%2C%2040.4199381%5D%2C%20%5B-3.7005061%2C%2040.419927%5D%2C%20%5B-3.7004813%2C%2040.4199234%5D%2C%20%5B-3.7004501%2C%2040.4199178%5D%2C%20%5B-3.7004138%2C%2040.4199131%5D%2C%20%5B-3.700377%2C%2040.4199068%5D%2C%20%5B-3.70036%2C%2040.4199039%5D%2C%20%5B-3.7002125%2C%2040.4198741%5D%2C%20%5B-3.7001822%2C%2040.419868%5D%2C%20%5B-3.7001369%2C%2040.4198588%5D%2C%20%5B-3.7000249%2C%2040.4198329%5D%2C%20%5B-3.6999363%2C%2040.4198084%5D%2C%20%5B-3.6999005%2C%2040.4197984%5D%2C%20%5B-3.699842%2C%2040.419782%5D%2C%20%5B-3.6996574%2C%2040.4197303%5D%2C%20%5B-3.6996942%2C%2040.419599%5D%2C%20%5B-3.6997165%2C%2040.4194716%5D%2C%20%5B-3.6997191%2C%2040.4194573%5D%2C%20%5B-3.6997331%2C%2040.4193772%5D%2C%20%5B-3.6997348%2C%2040.4192808%5D%2C%20%5B-3.6997352%2C%2040.4191984%5D%2C%20%5B-3.6997206%2C%2040.4191395%5D%2C%20%5B-3.6997149%2C%2040.4191161%5D%2C%20%5B-3.6996964%2C%2040.4190414%5D%2C%20%5B-3.6996805%2C%2040.4189767%5D%2C%20%5B-3.6996743%2C%2040.4189518%5D%2C%20%5B-3.6996661%2C%2040.4189225%5D%2C%20%5B-3.6996453%2C%2040.4188378%5D%2C%20%5B-3.69964%2C%2040.4188165%5D%2C%20%5B-3.699623%2C%2040.418747%5D%2C%20%5B-3.6996144%2C%2040.418712%5D%2C%20%5B-3.6995986%2C%2040.4186477%5D%2C%20%5B-3.6995827%2C%2040.4185831%5D%2C%20%5B-3.6995701%2C%2040.4185318%5D%2C%20%5B-3.6995512%2C%2040.4184636%5D%2C%20%5B-3.6995325%2C%2040.4184078%5D%2C%20%5B-3.6995273%2C%2040.4183922%5D%2C%20%5B-3.6994722%2C%2040.4182505%5D%2C%20%5B-3.699449%2C%2040.4181909%5D%2C%20%5B-3.6993978%2C%2040.4180593%5D%2C%20%5B-3.6994651%2C%2040.4179717%5D%2C%20%5B-3.6995999%2C%2040.4178053%5D%2C%20%5B-3.6997706%2C%2040.4175997%5D%2C%20%5B-3.6998803%2C%2040.4174651%5D%2C%20%5B-3.6998828%2C%2040.4174618%5D%2C%20%5B-3.6999388%2C%2040.417388%5D%2C%20%5B-3.699993%2C%2040.417312%5D%2C%20%5B-3.7000188%2C%2040.4172757%5D%2C%20%5B-3.7001197%2C%2040.4171341%5D%2C%20%5B-3.7001665%2C%2040.4170685%5D%2C%20%5B-3.7001947%2C%2040.4170289%5D%2C%20%5B-3.7003066%2C%2040.4168761%5D%2C%20%5B-3.7003241%2C%2040.4168523%5D%2C%20%5B-3.7003737%2C%2040.4167845%5D%2C%20%5B-3.7004042%2C%2040.4167339%5D%2C%20%5B-3.700482%2C%2040.4166078%5D%2C%20%5B-3.7005605%2C%2040.4164819%5D%2C%20%5B-3.7006049%2C%2040.41641%5D%2C%20%5B-3.7006435%2C%2040.4163782%5D%2C%20%5B-3.7006599%2C%2040.4163647%5D%2C%20%5B-3.700749%2C%2040.4162912%5D%2C%20%5B-3.700757%2C%2040.4162845%5D%2C%20%5B-3.7008582%2C%2040.416201%5D%2C%20%5B-3.7008798%2C%2040.4161862%5D%2C%20%5B-3.7010166%2C%2040.4160929%5D%2C%20%5B-3.7010281%2C%2040.416085%5D%2C%20%5B-3.7011629%2C%2040.4159931%5D%2C%20%5B-3.7011797%2C%2040.4159816%5D%2C%20%5B-3.7012976%2C%2040.4159011%5D%2C%20%5B-3.7013314%2C%2040.4158779%5D%2C%20%5B-3.701411%2C%2040.415823%5D%2C%20%5B-3.7015246%2C%2040.4157447%5D%2C%20%5B-3.7015331%2C%2040.4157389%5D%2C%20%5B-3.7016555%2C%2040.4156546%5D%2C%20%5B-3.7016768%2C%2040.4156399%5D%2C%20%5B-3.7017222%2C%2040.4156061%5D%2C%20%5B-3.7017921%2C%2040.4155541%5D%2C%20%5B-3.7018156%2C%2040.4155367%5D%2C%20%5B-3.7019068%2C%2040.4154689%5D%2C%20%5B-3.7019841%2C%2040.4154114%5D%2C%20%5B-3.7020449%2C%2040.4153662%5D%2C%20%5B-3.7020764%2C%2040.4153428%5D%2C%20%5B-3.7021974%2C%2040.4152528%5D%2C%20%5B-3.7022049%2C%2040.4152472%5D%2C%20%5B-3.7022602%2C%2040.4152061%5D%2C%20%5B-3.7022862%2C%2040.4151863%5D%2C%20%5B-3.702315%2C%2040.4151643%5D%2C%20%5B-3.7023501%2C%2040.4151377%5D%2C%20%5B-3.7024344%2C%2040.4150727%5D%2C%20%5B-3.7024386%2C%2040.4150694%5D%2C%20%5B-3.7024718%2C%2040.4150432%5D%2C%20%5B-3.7024831%2C%2040.4150343%5D%2C%20%5B-3.7025675%2C%2040.4149678%5D%2C%20%5B-3.7025903%2C%2040.4149482%5D%2C%20%5B-3.7026977%2C%2040.4148562%5D%2C%20%5B-3.7027245%2C%2040.4148332%5D%2C%20%5B-3.7028082%2C%2040.4147616%5D%2C%20%5B-3.7029361%2C%2040.4146519%5D%2C%20%5B-3.7029474%2C%2040.4146423%5D%2C%20%5B-3.7030927%2C%2040.4145177%5D%2C%20%5B-3.703235%2C%2040.4143817%5D%2C%20%5B-3.7032387%2C%2040.4143782%5D%2C%20%5B-3.703391%2C%2040.4141956%5D%2C%20%5B-3.7034434%2C%2040.4141328%5D%2C%20%5B-3.7035485%2C%2040.4141715%5D%2C%20%5B-3.703785%2C%2040.4142436%5D%2C%20%5B-3.7039522%2C%2040.4142946%5D%2C%20%5B-3.7040893%2C%2040.4142309%5D%2C%20%5B-3.7042112%2C%2040.4141743%5D%2C%20%5B-3.7042348%2C%2040.4141633%5D%2C%20%5B-3.7042793%2C%2040.4141426%5D%2C%20%5B-3.7043288%2C%2040.4141185%5D%2C%20%5B-3.7044432%2C%2040.4140626%5D%2C%20%5B-3.7045334%2C%2040.4140186%5D%2C%20%5B-3.7046062%2C%2040.4139831%5D%2C%20%5B-3.704773%2C%2040.4139%5D%2C%20%5B-3.7048189%2C%2040.4139069%5D%2C%20%5B-3.7049243%2C%2040.4139226%5D%2C%20%5B-3.7050542%2C%2040.4139364%5D%2C%20%5B-3.7050758%2C%2040.4139386%5D%2C%20%5B-3.7051932%2C%2040.413951%5D%2C%20%5B-3.7052193%2C%2040.4139524%5D%2C%20%5B-3.7052613%2C%2040.4139547%5D%2C%20%5B-3.7053195%2C%2040.4139578%5D%2C%20%5B-3.7054228%2C%2040.4139633%5D%2C%20%5B-3.7054666%2C%2040.4139656%5D%2C%20%5B-3.7055544%2C%2040.4139703%5D%2C%20%5B-3.7056331%2C%2040.4139746%5D%2C%20%5B-3.7057524%2C%2040.413981%5D%2C%20%5B-3.7058353%2C%2040.4139855%5D%2C%20%5B-3.7059057%2C%2040.4139865%5D%2C%20%5B-3.7059454%2C%2040.413987%5D%2C%20%5B-3.7060409%2C%2040.4139897%5D%2C%20%5B-3.7061116%2C%2040.4139917%5D%2C%20%5B-3.7062101%2C%2040.4139816%5D%2C%20%5B-3.7062145%2C%2040.4139811%5D%2C%20%5B-3.7063664%2C%2040.4139597%5D%2C%20%5B-3.7064262%2C%2040.4139407%5D%2C%20%5B-3.7064569%2C%2040.413931%5D%2C%20%5B-3.7065185%2C%2040.4139116%5D%2C%20%5B-3.7065786%2C%2040.4138926%5D%2C%20%5B-3.7066716%2C%2040.4138633%5D%2C%20%5B-3.7066898%2C%2040.4138576%5D%2C%20%5B-3.7068106%2C%2040.4138195%5D%2C%20%5B-3.7068691%2C%2040.4138011%5D%2C%20%5B-3.7069535%2C%2040.4137745%5D%2C%20%5B-3.7069858%2C%2040.4137643%5D%2C%20%5B-3.707076%2C%2040.4137359%5D%2C%20%5B-3.7070908%2C%2040.4137312%5D%2C%20%5B-3.7071876%2C%2040.4137007%5D%2C%20%5B-3.7072349%2C%2040.4136858%5D%2C%20%5B-3.7072458%2C%2040.4136824%5D%2C%20%5B-3.7072994%2C%2040.4136655%5D%2C%20%5B-3.7073587%2C%2040.4136468%5D%2C%20%5B-3.7074694%2C%2040.413615%5D%2C%20%5B-3.7075454%2C%2040.4135857%5D%2C%20%5B-3.707695%2C%2040.4135322%5D%2C%20%5B-3.7077307%2C%2040.4135532%5D%2C%20%5B-3.7079036%2C%2040.4136002%5D%2C%20%5B-3.7079473%2C%2040.4136121%5D%2C%20%5B-3.7080244%2C%2040.4136331%5D%2C%20%5B-3.7080727%2C%2040.4136474%5D%2C%20%5B-3.7081717%2C%2040.4136403%5D%2C%20%5B-3.7082186%2C%2040.413837%5D%2C%20%5B-3.7081786%2C%2040.4139029%5D%2C%20%5B-3.7081776%2C%2040.4139076%5D%2C%20%5B-3.7081556%2C%2040.4140009%5D%2C%20%5B-3.7081448%2C%2040.414047%5D%2C%20%5B-3.7081351%2C%2040.414088%5D%2C%20%5B-3.708128%2C%2040.4141181%5D%2C%20%5B-3.708109%2C%2040.4141768%5D%2C%20%5B-3.7081009%2C%2040.4142015%5D%2C%20%5B-3.7080851%2C%2040.4142502%5D%2C%20%5B-3.7080764%2C%2040.4142769%5D%2C%20%5B-3.7080637%2C%2040.4143159%5D%2C%20%5B-3.7080512%2C%2040.4143545%5D%2C%20%5B-3.7080402%2C%2040.4144053%5D%2C%20%5B-3.7080393%2C%2040.4144099%5D%2C%20%5B-3.7080293%2C%2040.4144563%5D%2C%20%5B-3.7080274%2C%2040.4144847%5D%2C%20%5B-3.7080231%2C%2040.414549%5D%2C%20%5B-3.7080304%2C%2040.4145583%5D%2C%20%5B-3.7080588%2C%2040.414594%5D%2C%20%5B-3.7080799%2C%2040.414621%5D%2C%20%5B-3.7081397%2C%2040.4146979%5D%2C%20%5B-3.7081747%2C%2040.4147429%5D%2C%20%5B-3.7081844%2C%2040.414758%5D%2C%20%5B-3.7081905%2C%2040.414767%5D%2C%20%5B-3.7082215%2C%2040.4148131%5D%2C%20%5B-3.7082379%2C%2040.4148507%5D%2C%20%5B-3.7082948%2C%2040.414981%5D%2C%20%5B-3.7083096%2C%2040.4150149%5D%2C%20%5B-3.7083555%2C%2040.4151199%5D%2C%20%5B-3.7083872%2C%2040.4151926%5D%2C%20%5B-3.7084081%2C%2040.4152404%5D%2C%20%5B-3.7084095%2C%2040.4152456%5D%2C%20%5B-3.708417%2C%2040.4152584%5D%2C%20%5B-3.7084304%2C%2040.4152763%5D%2C%20%5B-3.708445%2C%2040.4152917%5D%2C%20%5B-3.7084625%2C%2040.4153062%5D%2C%20%5B-3.7084762%2C%2040.4153152%5D%2C%20%5B-3.7084776%2C%2040.4153161%5D%2C%20%5B-3.7084922%2C%2040.4153232%5D%2C%20%5B-3.7085047%2C%2040.4153293%5D%2C%20%5B-3.7085097%2C%2040.4153318%5D%2C%20%5B-3.708552%2C%2040.4153481%5D%2C%20%5B-3.708573%2C%2040.4153562%5D%2C%20%5B-3.7086173%2C%2040.4153823%5D%2C%20%5B-3.7086407%2C%2040.4153971%5D%2C%20%5B-3.7086509%2C%2040.4154048%5D%2C%20%5B-3.7086638%2C%2040.4154147%5D%2C%20%5B-3.7086849%2C%2040.4154331%5D%2C%20%5B-3.7087222%2C%2040.4154738%5D%2C%20%5B-3.7087312%2C%2040.4154859%5D%2C%20%5B-3.7087492%2C%2040.4155101%5D%2C%20%5B-3.708767%2C%2040.415539%5D%2C%20%5B-3.7087738%2C%2040.4155537%5D%2C%20%5B-3.7087807%2C%2040.4155725%5D%2C%20%5B-3.7087777%2C%2040.4155797%5D%2C%20%5B-3.7086763%2C%2040.4158211%5D%2C%20%5B-3.7087345%2C%2040.4158482%5D%2C%20%5B-3.7087042%2C%2040.4159568%5D%2C%20%5B-3.7086771%2C%2040.4160495%5D%2C%20%5B-3.7086969%2C%2040.4161804%5D%2C%20%5B-3.708701%2C%2040.4162077%5D%2C%20%5B-3.7087089%2C%2040.4162601%5D%2C%20%5B-3.7087169%2C%2040.4163132%5D%2C%20%5B-3.7087738%2C%2040.4163371%5D%2C%20%5B-3.7086434%2C%2040.4163641%5D%2C%20%5B-3.7086283%2C%2040.4163983%5D%2C%20%5B-3.7086349%2C%2040.4164521%5D%2C%20%5B-3.7086454%2C%2040.4165373%5D%2C%20%5B-3.7086527%2C%2040.4165967%5D%2C%20%5B-3.7086579%2C%2040.4166391%5D%2C%20%5B-3.7086686%2C%2040.4167254%5D%2C%20%5B-3.708672%2C%2040.4167534%5D%2C%20%5B-3.7086952%2C%2040.4168008%5D%2C%20%5B-3.708699%2C%2040.4168251%5D%2C%20%5B-3.7087003%2C%2040.4168335%5D%2C%20%5B-3.7087011%2C%2040.4168446%5D%2C%20%5B-3.7087071%2C%2040.4169264%5D%2C%20%5B-3.7087089%2C%2040.4169496%5D%2C%20%5B-3.7087154%2C%2040.4170388%5D%2C%20%5B-3.7087129%2C%2040.4170486%5D%2C%20%5B-3.7087031%2C%2040.417086%5D%2C%20%5B-3.7086924%2C%2040.417127%5D%2C%20%5B-3.7086851%2C%2040.4171689%5D%2C%20%5B-3.708681%2C%2040.4171927%5D%2C%20%5B-3.7086688%2C%2040.4172626%5D%2C%20%5B-3.7086548%2C%2040.4173429%5D%2C%20%5B-3.7086486%2C%2040.417379%5D%2C%20%5B-3.7086329%2C%2040.4174694%5D%2C%20%5B-3.7086179%2C%2040.4175554%5D%2C%20%5B-3.708589%2C%2040.4177214%5D%2C%20%5B-3.7085233%2C%2040.4177818%5D%2C%20%5B-3.7086367%2C%2040.4177925%5D%2C%20%5B-3.7087085%2C%2040.4177992%5D%2C%20%5B-3.7087608%2C%2040.4178041%5D%2C%20%5B-3.7087418%2C%2040.4178953%5D%2C%20%5B-3.7086644%2C%2040.4180245%5D%2C%20%5B-3.7086582%2C%2040.4180348%5D%2C%20%5B-3.7085431%2C%2040.4182269%5D%2C%20%5B-3.7085215%2C%2040.4182631%5D%2C%20%5B-3.7085115%2C%2040.4182797%5D%2C%20%5B-3.7084713%2C%2040.4183556%5D%2C%20%5B-3.7084549%2C%2040.4183838%5D%2C%20%5B-3.7084168%2C%2040.4184597%5D%2C%20%5B-3.7084019%2C%2040.4184894%5D%2C%20%5B-3.7083558%2C%2040.4185812%5D%2C%20%5B-3.7083196%2C%2040.4186536%5D%2C%20%5B-3.7082869%2C%2040.4187186%5D%2C%20%5B-3.7082448%2C%2040.4188026%5D%2C%20%5B-3.708228%2C%2040.4188361%5D%2C%20%5B-3.708218%2C%2040.4188561%5D%2C%20%5B-3.7081806%2C%2040.4189345%5D%2C%20%5B-3.7081777%2C%2040.4189567%5D%2C%20%5B-3.7081586%2C%2040.4190354%5D%2C%20%5B-3.7081533%2C%2040.4190572%5D%2C%20%5B-3.7081093%2C%2040.4192352%5D%2C%20%5B-3.7081074%2C%2040.4192418%5D%2C%20%5B-3.708095%2C%2040.4192861%5D%2C%20%5B-3.7080753%2C%2040.4193566%5D%2C%20%5B-3.7080642%2C%2040.4193959%5D%2C%20%5B-3.7080459%2C%2040.4194612%5D%2C%20%5B-3.7080092%2C%2040.4195923%5D%2C%20%5B-3.7079964%2C%2040.4196381%5D%2C%20%5B-3.70798%2C%2040.4196964%5D%2C%20%5B-3.7079456%2C%2040.4198129%5D%2C%20%5B-3.7079022%2C%2040.419823%5D%2C%20%5B-3.7078575%2C%2040.4198335%5D%2C%20%5B-3.7079317%2C%2040.4199454%5D%2C%20%5B-3.7081251%2C%2040.4202375%5D%2C%20%5B-3.7079605%2C%2040.4202333%5D%2C%20%5B-3.7079189%2C%2040.4202323%5D%2C%20%5B-3.7078%2C%2040.420228%5D%2C%20%5B-3.7076491%2C%2040.4202226%5D%2C%20%5B-3.7073667%2C%2040.4202126%5D%2C%20%5B-3.707224%2C%2040.4202075%5D%2C%20%5B-3.7071892%2C%2040.4202062%5D%2C%20%5B-3.7071281%2C%2040.4202041%5D%2C%20%5B-3.7069239%2C%2040.4201968%5D%2C%20%5B-3.7068775%2C%2040.4201951%5D%2C%20%5B-3.7067178%2C%2040.4201894%5D%2C%20%5B-3.7065371%2C%2040.420183%5D%2C%20%5B-3.7063181%2C%2040.4201752%5D%2C%20%5B-3.7062269%2C%2040.4201984%5D%2C%20%5B-3.7059489%2C%2040.420315%5D%2C%20%5B-3.7058793%2C%2040.42031%5D%2C%20%5B-3.7056998%2C%2040.4202973%5D%2C%20%5B-3.7056866%2C%2040.4202964%5D%2C%20%5B-3.7055454%2C%2040.4202856%5D%2C%20%5B-3.7055172%2C%2040.4202835%5D%2C%20%5B-3.705316%2C%2040.4202682%5D%2C%20%5B-3.7052678%2C%2040.420265%5D%2C%20%5B-3.7052556%2C%2040.4202642%5D%2C%20%5B-3.7050402%2C%2040.4202499%5D%2C%20%5B-3.7050247%2C%2040.4202488%5D%2C%20%5B-3.7048381%2C%2040.4202364%5D%2C%20%5B-3.7046279%2C%2040.4202217%5D%2C%20%5B-3.7046075%2C%2040.4202202%5D%2C%20%5B-3.7043974%2C%2040.4202055%5D%2C%20%5B-3.704268%2C%2040.4201964%5D%2C%20%5B-3.7041641%2C%2040.4201892%5D%5D%5D%2C%20%22type%22%3A%20%22Polygon%22%7D%2C%20%22properties%22%3A%20%7B%22CODBDT%22%3A%20860650%2C%20%22DISPLAY_NAME%22%3A%20%22016%20Sol%22%2C%20%22GEOCODIGO%22%3A%20%22079016%22%2C%20%22MOVEMENT_ID%22%3A%20%226%22%7D%2C%20%22type%22%3A%20%22Feature%22%7D%2C%20%7B%22geometry%22%3A%20%7B%22coordinates%22%3A%20%5B%5B%5B-3.6977739%2C%2040.3892963%5D%2C%20%5B-3.6981144%2C%2040.3890734%5D%2C%20%5B-3.6995591%2C%2040.3906178%5D%2C%20%5B-3.7004511%2C%2040.3916255%5D%2C%20%5B-3.701205%2C%2040.3923723%5D%2C%20%5B-3.7020038%2C%2040.3931933%5D%2C%20%5B-3.703034%2C%2040.3941681%5D%2C%20%5B-3.7041692%2C%2040.3948693%5D%2C%20%5B-3.7046342%2C%2040.3950785%5D%2C%20%5B-3.7043784%2C%2040.3953425%5D%2C%20%5B-3.7041492%2C%2040.395595%5D%2C%20%5B-3.703891%2C%2040.3958796%5D%2C%20%5B-3.7034483%2C%2040.3963722%5D%2C%20%5B-3.7031738%2C%2040.3966782%5D%2C%20%5B-3.7027455%2C%2040.3971528%5D%2C%20%5B-3.7025984%2C%2040.3973199%5D%2C%20%5B-3.7024908%2C%2040.3974375%5D%2C%20%5B-3.7024212%2C%2040.3975135%5D%2C%20%5B-3.7022746%2C%2040.3976737%5D%2C%20%5B-3.7022615%2C%2040.397688%5D%2C%20%5B-3.7021389%2C%2040.3978219%5D%2C%20%5B-3.7020751%2C%2040.3978919%5D%2C%20%5B-3.701996%2C%2040.3979793%5D%2C%20%5B-3.7019716%2C%2040.3980061%5D%2C%20%5B-3.7018955%2C%2040.3980901%5D%2C%20%5B-3.7018787%2C%2040.3981088%5D%2C%20%5B-3.7018021%2C%2040.3981932%5D%2C%20%5B-3.7017942%2C%2040.3982018%5D%2C%20%5B-3.7016823%2C%2040.3983232%5D%2C%20%5B-3.7016725%2C%2040.3983338%5D%2C%20%5B-3.7015564%2C%2040.3984598%5D%2C%20%5B-3.7014291%2C%2040.3985988%5D%2C%20%5B-3.7013985%2C%2040.3986322%5D%2C%20%5B-3.7013065%2C%2040.3987327%5D%2C%20%5B-3.7012931%2C%2040.3987473%5D%2C%20%5B-3.7012588%2C%2040.3987847%5D%2C%20%5B-3.7012193%2C%2040.3988279%5D%2C%20%5B-3.7011821%2C%2040.3988685%5D%2C%20%5B-3.7011603%2C%2040.3988923%5D%2C%20%5B-3.701131%2C%2040.3989243%5D%2C%20%5B-3.7010683%2C%2040.3989928%5D%2C%20%5B-3.7009802%2C%2040.3990889%5D%2C%20%5B-3.7008466%2C%2040.3992337%5D%2C%20%5B-3.7008384%2C%2040.3992426%5D%2C%20%5B-3.7007096%2C%2040.399382%5D%2C%20%5B-3.7006672%2C%2040.399428%5D%2C%20%5B-3.7005893%2C%2040.3995123%5D%2C%20%5B-3.7004937%2C%2040.3996159%5D%2C%20%5B-3.7004672%2C%2040.3996446%5D%2C%20%5B-3.7003661%2C%2040.3997542%5D%2C%20%5B-3.7002768%2C%2040.3998552%5D%2C%20%5B-3.7001624%2C%2040.3999846%5D%2C%20%5B-3.7001524%2C%2040.399996%5D%2C%20%5B-3.7001374%2C%2040.4000129%5D%2C%20%5B-3.7001175%2C%2040.4000355%5D%2C%20%5B-3.7000966%2C%2040.4000591%5D%2C%20%5B-3.7000839%2C%2040.4000735%5D%2C%20%5B-3.7000659%2C%2040.4000939%5D%2C%20%5B-3.7000429%2C%2040.4001199%5D%2C%20%5B-3.7000147%2C%2040.4001518%5D%2C%20%5B-3.6999383%2C%2040.4002383%5D%2C%20%5B-3.6999143%2C%2040.4002635%5D%2C%20%5B-3.6998918%2C%2040.4002871%5D%2C%20%5B-3.6998571%2C%2040.4003235%5D%2C%20%5B-3.6997922%2C%2040.4003917%5D%2C%20%5B-3.6995225%2C%2040.4007035%5D%2C%20%5B-3.6992031%2C%2040.4009576%5D%2C%20%5B-3.6991463%2C%2040.4006226%5D%2C%20%5B-3.6989769%2C%2040.4003368%5D%2C%20%5B-3.6989649%2C%2040.4003196%5D%2C%20%5B-3.6988884%2C%2040.4002102%5D%2C%20%5B-3.6988757%2C%2040.4001919%5D%2C%20%5B-3.6988056%2C%2040.4000918%5D%2C%20%5B-3.69877%2C%2040.4000407%5D%2C%20%5B-3.6987311%2C%2040.3999851%5D%2C%20%5B-3.6986647%2C%2040.3998901%5D%2C%20%5B-3.6986493%2C%2040.3998681%5D%2C%20%5B-3.6986021%2C%2040.3998005%5D%2C%20%5B-3.6985759%2C%2040.3997631%5D%2C%20%5B-3.6985151%2C%2040.3996761%5D%2C%20%5B-3.6983672%2C%2040.3994645%5D%2C%20%5B-3.6983483%2C%2040.3994374%5D%2C%20%5B-3.6983179%2C%2040.3993939%5D%2C%20%5B-3.6982602%2C%2040.3993115%5D%2C%20%5B-3.6982197%2C%2040.3992535%5D%2C%20%5B-3.698152%2C%2040.3991567%5D%2C%20%5B-3.6981316%2C%2040.3991274%5D%2C%20%5B-3.698081%2C%2040.3990551%5D%2C%20%5B-3.6980317%2C%2040.3989846%5D%2C%20%5B-3.6980268%2C%2040.3989775%5D%2C%20%5B-3.6979682%2C%2040.3988937%5D%2C%20%5B-3.6979347%2C%2040.3988458%5D%2C%20%5B-3.6979167%2C%2040.3988201%5D%2C%20%5B-3.6978735%2C%2040.3987583%5D%2C%20%5B-3.6978243%2C%2040.3986879%5D%2C%20%5B-3.6977306%2C%2040.3985539%5D%2C%20%5B-3.697712%2C%2040.3985272%5D%2C%20%5B-3.6976623%2C%2040.3984561%5D%2C%20%5B-3.6975957%2C%2040.3983608%5D%2C%20%5B-3.6974982%2C%2040.3982213%5D%2C%20%5B-3.6974852%2C%2040.3982027%5D%2C%20%5B-3.6973912%2C%2040.3980682%5D%2C%20%5B-3.6973825%2C%2040.3980558%5D%2C%20%5B-3.6972952%2C%2040.3979309%5D%2C%20%5B-3.697272%2C%2040.3978977%5D%2C%20%5B-3.6972351%2C%2040.397845%5D%2C%20%5B-3.6972088%2C%2040.3978073%5D%2C%20%5B-3.6971916%2C%2040.3977827%5D%2C%20%5B-3.6971582%2C%2040.3977349%5D%2C%20%5B-3.6970963%2C%2040.3976463%5D%2C%20%5B-3.6970621%2C%2040.3975975%5D%2C%20%5B-3.6970256%2C%2040.3975451%5D%2C%20%5B-3.6969757%2C%2040.3974738%5D%2C%20%5B-3.6969319%2C%2040.3974112%5D%2C%20%5B-3.6969253%2C%2040.3974018%5D%2C%20%5B-3.6968918%2C%2040.3973537%5D%2C%20%5B-3.6968478%2C%2040.3972908%5D%2C%20%5B-3.6968433%2C%2040.3972844%5D%2C%20%5B-3.6968334%2C%2040.3972702%5D%2C%20%5B-3.6967813%2C%2040.3971957%5D%2C%20%5B-3.6967661%2C%2040.397174%5D%2C%20%5B-3.6966852%2C%2040.3970576%5D%2C%20%5B-3.6966329%2C%2040.3969824%5D%2C%20%5B-3.6966047%2C%2040.3969419%5D%2C%20%5B-3.696549%2C%2040.3968617%5D%2C%20%5B-3.6965454%2C%2040.3968566%5D%2C%20%5B-3.696521%2C%2040.3968214%5D%2C%20%5B-3.6964883%2C%2040.3967745%5D%2C%20%5B-3.6964798%2C%2040.3967622%5D%2C%20%5B-3.6964197%2C%2040.3966758%5D%2C%20%5B-3.6963951%2C%2040.3966403%5D%2C%20%5B-3.6963496%2C%2040.3965749%5D%2C%20%5B-3.6963358%2C%2040.3965551%5D%2C%20%5B-3.6963344%2C%2040.396553%5D%2C%20%5B-3.6962454%2C%2040.396425%5D%2C%20%5B-3.6962393%2C%2040.3964148%5D%2C%20%5B-3.6961989%2C%2040.3963467%5D%2C%20%5B-3.6961792%2C%2040.3963135%5D%2C%20%5B-3.6961322%2C%2040.3962368%5D%2C%20%5B-3.6961213%2C%2040.396219%5D%2C%20%5B-3.6960492%2C%2040.3961163%5D%2C%20%5B-3.6960306%2C%2040.3960898%5D%2C%20%5B-3.695946%2C%2040.3959694%5D%2C%20%5B-3.6959361%2C%2040.3959553%5D%2C%20%5B-3.6958729%2C%2040.3958653%5D%2C%20%5B-3.6958431%2C%2040.3958238%5D%2C%20%5B-3.6958043%2C%2040.3957697%5D%2C%20%5B-3.6957821%2C%2040.3957382%5D%2C%20%5B-3.6957512%2C%2040.3956945%5D%2C%20%5B-3.695696%2C%2040.3956162%5D%2C%20%5B-3.6956059%2C%2040.3954885%5D%2C%20%5B-3.6955347%2C%2040.3953877%5D%2C%20%5B-3.6954966%2C%2040.3953337%5D%2C%20%5B-3.695397%2C%2040.3951926%5D%2C%20%5B-3.6953957%2C%2040.3951906%5D%2C%20%5B-3.6953269%2C%2040.3950931%5D%2C%20%5B-3.6952996%2C%2040.3950545%5D%2C%20%5B-3.6952323%2C%2040.3949581%5D%2C%20%5B-3.6952195%2C%2040.3949396%5D%2C%20%5B-3.6951639%2C%2040.39486%5D%2C%20%5B-3.6951617%2C%2040.3948569%5D%2C%20%5B-3.6951081%2C%2040.3947801%5D%2C%20%5B-3.6950631%2C%2040.3947156%5D%2C%20%5B-3.6949328%2C%2040.3945231%5D%2C%20%5B-3.6947031%2C%2040.3942044%5D%2C%20%5B-3.694744%2C%2040.3938419%5D%2C%20%5B-3.6947683%2C%2040.3936239%5D%2C%20%5B-3.6947688%2C%2040.3936191%5D%2C%20%5B-3.6947801%2C%2040.3935236%5D%2C%20%5B-3.6947812%2C%2040.3935143%5D%2C%20%5B-3.6947875%2C%2040.3934609%5D%2C%20%5B-3.6947928%2C%2040.3934161%5D%2C%20%5B-3.6947985%2C%2040.393368%5D%2C%20%5B-3.6948066%2C%2040.3932991%5D%2C%20%5B-3.6948081%2C%2040.3932864%5D%2C%20%5B-3.6948196%2C%2040.3931892%5D%2C%20%5B-3.6948203%2C%2040.3931831%5D%2C%20%5B-3.6948303%2C%2040.3930979%5D%2C%20%5B-3.6948336%2C%2040.3930712%5D%2C%20%5B-3.694844%2C%2040.3929845%5D%2C%20%5B-3.6948455%2C%2040.3929716%5D%2C%20%5B-3.6948585%2C%2040.3928639%5D%2C%20%5B-3.6948591%2C%2040.3928583%5D%2C%20%5B-3.6948706%2C%2040.3927627%5D%2C%20%5B-3.6948745%2C%2040.3927304%5D%2C%20%5B-3.6948853%2C%2040.3926404%5D%2C%20%5B-3.6948879%2C%2040.3926187%5D%2C%20%5B-3.6948963%2C%2040.3925484%5D%2C%20%5B-3.6949003%2C%2040.3925122%5D%2C%20%5B-3.6949078%2C%2040.3924427%5D%2C%20%5B-3.6949105%2C%2040.3924185%5D%2C%20%5B-3.6949171%2C%2040.3923573%5D%2C%20%5B-3.6949215%2C%2040.3923174%5D%2C%20%5B-3.6949288%2C%2040.3922501%5D%2C%20%5B-3.6949325%2C%2040.3922157%5D%2C%20%5B-3.6949355%2C%2040.3921879%5D%2C%20%5B-3.6949428%2C%2040.3921211%5D%2C%20%5B-3.6949464%2C%2040.3920876%5D%2C%20%5B-3.6949566%2C%2040.391994%5D%2C%20%5B-3.6949597%2C%2040.3919652%5D%2C%20%5B-3.6949639%2C%2040.3919269%5D%2C%20%5B-3.6949661%2C%2040.3918972%5D%2C%20%5B-3.694969%2C%2040.3918589%5D%2C%20%5B-3.6949779%2C%2040.391739%5D%2C%20%5B-3.6949799%2C%2040.3917121%5D%2C%20%5B-3.6950323%2C%2040.3914862%5D%2C%20%5B-3.6951318%2C%2040.3911123%5D%2C%20%5B-3.695359%2C%2040.3909629%5D%2C%20%5B-3.6955101%2C%2040.3908636%5D%2C%20%5B-3.6976009%2C%2040.3894124%5D%2C%20%5B-3.6976032%2C%2040.3894109%5D%2C%20%5B-3.6977066%2C%2040.3893415%5D%2C%20%5B-3.6977739%2C%2040.3892963%5D%5D%5D%2C%20%22type%22%3A%20%22Polygon%22%7D%2C%20%22properties%22%3A%20%7B%22CODBDT%22%3A%20860653%2C%20%22DISPLAY_NAME%22%3A%20%22023%20La%20Chopera%22%2C%20%22GEOCODIGO%22%3A%20%22079023%22%2C%20%22MOVEMENT_ID%22%3A%20%229%22%7D%2C%20%22type%22%3A%20%22Feature%22%7D%5D%2C%20%22type%22%3A%20%22FeatureCollection%22%7D%29%3B%0A%0A%20%20%20%20%20%20%20%20%0A%3C/script%3E onload=\"this.contentDocument.open();this.contentDocument.write(    decodeURIComponent(this.getAttribute('data-html')));this.contentDocument.close();\" allowfullscreen webkitallowfullscreen mozallowfullscreen></iframe></div></div>"
      ],
      "text/plain": [
       "<folium.folium.Map at 0x7ff64d238280>"
      ]
     },
     "execution_count": 109,
     "metadata": {},
     "output_type": "execute_result"
    }
   ],
   "source": [
    "import folium\n",
    "\n",
    "punto_central = [(origin_ll[0]+destiny_ll[0])/2 , (origin_ll[1]+destiny_ll[1])/2 ]\n",
    "\n",
    "map_1 = folium.Map(location = punto_central, zoom_start=13)\n",
    "\n",
    "folium.GeoJson(geo_Reduced, style_function=lambda feature: {'fillColor': 'blue',\n",
    "                                                            'color': 'blue',\n",
    "                                                            'weight': 1,\n",
    "                                                            'dashArray': '5, 5'} ).add_to(map_1)\n",
    "\n",
    "map_1"
   ]
  },
  {
   "cell_type": "code",
   "execution_count": null,
   "id": "46aa4554",
   "metadata": {},
   "outputs": [],
   "source": []
  }
 ],
 "metadata": {
  "kernelspec": {
   "display_name": "project",
   "language": "python",
   "name": "project"
  },
  "language_info": {
   "codemirror_mode": {
    "name": "ipython",
    "version": 3
   },
   "file_extension": ".py",
   "mimetype": "text/x-python",
   "name": "python",
   "nbconvert_exporter": "python",
   "pygments_lexer": "ipython3",
   "version": "3.10.0"
  }
 },
 "nbformat": 4,
 "nbformat_minor": 5
}

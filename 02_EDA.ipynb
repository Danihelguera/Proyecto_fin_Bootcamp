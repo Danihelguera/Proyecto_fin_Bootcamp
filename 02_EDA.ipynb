{
 "cells": [
  {
   "cell_type": "markdown",
   "id": "98d865bd",
   "metadata": {},
   "source": [
    "# Importamos librerías y cargamos DataFrames"
   ]
  },
  {
   "cell_type": "code",
   "execution_count": 1,
   "id": "f4608c34",
   "metadata": {},
   "outputs": [],
   "source": [
    "import pandas as pd\n",
    "import os\n",
    "import regex as re\n",
    "import time\n",
    "\n",
    "import plotly\n",
    "import matplotlib.pyplot as plt\n",
    "import seaborn as sns\n",
    "sns.set_theme(style=\"whitegrid\")"
   ]
  },
  {
   "cell_type": "code",
   "execution_count": 6,
   "id": "4b51a475",
   "metadata": {},
   "outputs": [],
   "source": [
    "\n",
    "path_import = \"data/\"\n",
    "\n",
    "W_CP_df = pd.read_csv(f\"{path_import}W_CP_df.csv\" ,index_col=0)\n",
    "W_B_df  = pd.read_csv(f\"{path_import}W_B_df.csv\"  ,index_col=0)\n",
    "M_CP_df = pd.read_csv(f\"{path_import}M_CP_df.csv\" ,index_col=0)\n",
    "M_B_df  = pd.read_csv(f\"{path_import}M_B_df.csv\"  ,index_col=0)\n",
    "H_CP_df = pd.read_csv(f\"{path_import}H_CP_df.csv\" ,index_col=0)\n",
    "H_B_df  = pd.read_csv(f\"{path_import}H_B_df.csv\"  ,index_col=0)\n"
   ]
  },
  {
   "cell_type": "markdown",
   "id": "239fdd48",
   "metadata": {},
   "source": [
    "# Analizamos los tiempos por semanas:"
   ]
  },
  {
   "cell_type": "code",
   "execution_count": 11,
   "id": "d6979d7e",
   "metadata": {},
   "outputs": [
    {
     "data": {
      "text/html": [
       "<div>\n",
       "<style scoped>\n",
       "    .dataframe tbody tr th:only-of-type {\n",
       "        vertical-align: middle;\n",
       "    }\n",
       "\n",
       "    .dataframe tbody tr th {\n",
       "        vertical-align: top;\n",
       "    }\n",
       "\n",
       "    .dataframe thead th {\n",
       "        text-align: right;\n",
       "    }\n",
       "</style>\n",
       "<table border=\"1\" class=\"dataframe\">\n",
       "  <thead>\n",
       "    <tr style=\"text-align: right;\">\n",
       "      <th></th>\n",
       "      <th>origin</th>\n",
       "      <th>destiny</th>\n",
       "      <th>dow</th>\n",
       "      <th>mean_time_s</th>\n",
       "      <th>std_time_s</th>\n",
       "    </tr>\n",
       "  </thead>\n",
       "  <tbody>\n",
       "    <tr>\n",
       "      <th>0</th>\n",
       "      <td>125</td>\n",
       "      <td>87</td>\n",
       "      <td>2</td>\n",
       "      <td>799</td>\n",
       "      <td>600</td>\n",
       "    </tr>\n",
       "    <tr>\n",
       "      <th>1</th>\n",
       "      <td>85</td>\n",
       "      <td>39</td>\n",
       "      <td>2</td>\n",
       "      <td>1350</td>\n",
       "      <td>471</td>\n",
       "    </tr>\n",
       "    <tr>\n",
       "      <th>2</th>\n",
       "      <td>127</td>\n",
       "      <td>96</td>\n",
       "      <td>2</td>\n",
       "      <td>470</td>\n",
       "      <td>322</td>\n",
       "    </tr>\n",
       "    <tr>\n",
       "      <th>3</th>\n",
       "      <td>128</td>\n",
       "      <td>86</td>\n",
       "      <td>2</td>\n",
       "      <td>706</td>\n",
       "      <td>337</td>\n",
       "    </tr>\n",
       "    <tr>\n",
       "      <th>4</th>\n",
       "      <td>36</td>\n",
       "      <td>67</td>\n",
       "      <td>1</td>\n",
       "      <td>1283</td>\n",
       "      <td>340</td>\n",
       "    </tr>\n",
       "    <tr>\n",
       "      <th>...</th>\n",
       "      <td>...</td>\n",
       "      <td>...</td>\n",
       "      <td>...</td>\n",
       "      <td>...</td>\n",
       "      <td>...</td>\n",
       "    </tr>\n",
       "    <tr>\n",
       "      <th>105467</th>\n",
       "      <td>35</td>\n",
       "      <td>115</td>\n",
       "      <td>7</td>\n",
       "      <td>1243</td>\n",
       "      <td>526</td>\n",
       "    </tr>\n",
       "    <tr>\n",
       "      <th>105468</th>\n",
       "      <td>34</td>\n",
       "      <td>125</td>\n",
       "      <td>7</td>\n",
       "      <td>930</td>\n",
       "      <td>330</td>\n",
       "    </tr>\n",
       "    <tr>\n",
       "      <th>105469</th>\n",
       "      <td>92</td>\n",
       "      <td>103</td>\n",
       "      <td>3</td>\n",
       "      <td>564</td>\n",
       "      <td>253</td>\n",
       "    </tr>\n",
       "    <tr>\n",
       "      <th>105470</th>\n",
       "      <td>36</td>\n",
       "      <td>105</td>\n",
       "      <td>7</td>\n",
       "      <td>601</td>\n",
       "      <td>204</td>\n",
       "    </tr>\n",
       "    <tr>\n",
       "      <th>105471</th>\n",
       "      <td>90</td>\n",
       "      <td>123</td>\n",
       "      <td>3</td>\n",
       "      <td>428</td>\n",
       "      <td>257</td>\n",
       "    </tr>\n",
       "  </tbody>\n",
       "</table>\n",
       "<p>105472 rows × 5 columns</p>\n",
       "</div>"
      ],
      "text/plain": [
       "        origin  destiny  dow  mean_time_s  std_time_s\n",
       "0          125       87    2          799         600\n",
       "1           85       39    2         1350         471\n",
       "2          127       96    2          470         322\n",
       "3          128       86    2          706         337\n",
       "4           36       67    1         1283         340\n",
       "...        ...      ...  ...          ...         ...\n",
       "105467      35      115    7         1243         526\n",
       "105468      34      125    7          930         330\n",
       "105469      92      103    3          564         253\n",
       "105470      36      105    7          601         204\n",
       "105471      90      123    3          428         257\n",
       "\n",
       "[105472 rows x 5 columns]"
      ]
     },
     "execution_count": 11,
     "metadata": {},
     "output_type": "execute_result"
    }
   ],
   "source": [
    "W_B_df"
   ]
  },
  {
   "cell_type": "markdown",
   "id": "bbd08f46",
   "metadata": {},
   "source": [
    "# Analizamos los tiempos por horas:"
   ]
  },
  {
   "cell_type": "code",
   "execution_count": null,
   "id": "32a31c70",
   "metadata": {},
   "outputs": [],
   "source": []
  },
  {
   "cell_type": "markdown",
   "id": "f73a3a00",
   "metadata": {},
   "source": [
    "# Analizamos los tiempos mensualmente:"
   ]
  },
  {
   "cell_type": "code",
   "execution_count": null,
   "id": "7645879f",
   "metadata": {},
   "outputs": [],
   "source": []
  }
 ],
 "metadata": {
  "kernelspec": {
   "display_name": "project",
   "language": "python",
   "name": "project"
  },
  "language_info": {
   "codemirror_mode": {
    "name": "ipython",
    "version": 3
   },
   "file_extension": ".py",
   "mimetype": "text/x-python",
   "name": "python",
   "nbconvert_exporter": "python",
   "pygments_lexer": "ipython3",
   "version": "3.10.0"
  }
 },
 "nbformat": 4,
 "nbformat_minor": 5
}
